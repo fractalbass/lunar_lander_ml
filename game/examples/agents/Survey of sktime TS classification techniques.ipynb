{
 "cells": [
  {
   "cell_type": "markdown",
   "id": "0805c163",
   "metadata": {},
   "source": [
    "# Classification of Time Series Using sktime\n",
    "\n",
    "Miles Porter  \n",
    "Trimble Central AI  \n",
    "miles_porter@trimble.com  \n",
    "January 18, 2022\n",
    "\n",
    "## Introduction\n",
    "\n",
    "\"The subject of clustering and classification of time series with applications in fields such as geology, medicine, environmental science, astronomy, finance and economics, has attracted substantial attention over the last two to three decades.\"\n",
    "\n",
    "-- Maharaj, Elizabeth Ann, et al. Time Series Clustering and Classification. 2019.\n",
    "\n",
    "A number of deep learning techniques exist for dealing with time series data.  However, as is common with deep neural networks, these models tend to take a long time to train, and the resulting models tend to be very large.  The sktime python package offers a number of algorithms for classifying time series data.  The purpose of this document is to highlight some of these models and provide some basic comparisons in terms of performance and accuracy.\n",
    "\n",
    "The [sktime](https://www.sktime.org/en/stable/) package offers over twenty different ML models for time series classification.  This notebook focuses just on the following, as they are representative of the major types of algorithms sktime has to offer:\n",
    "\n",
    "- Dictionary Based Models\n",
    "    - IndividualBOSS\n",
    "- Distance Based Models\n",
    "    - KNeighborsTimeSSeriesClassifier\n",
    "- Interval Based\n",
    "    - TimeSeriesForestClassifier\n",
    "- Shapelet-based\n",
    "    - ShapletTranformClassifier\n",
    "- Feature-based\n",
    "    - MatrixProfileClassifier\n",
    "\n",
    "## Training Dataset: OpenAI Lunar Lander\n",
    "\n",
    "A common dataset was created in order to evaluate these time series classification algorithms.  The dataset consists of 2000 time series which are divided into two balanced classes.  The data comes from the OpenAI gym \"Lunar Lander\" game, and represents the magnitude of the velocity of the Lander as the game is played.  \n",
    "\n",
    "The following video demonstrates the OpenAI Gym Lunar Lander game.\n",
    "\n",
    "![Watch the video](original.gif)\n",
    "\n",
    "(https://gym.openai.com/envs/LunarLander-v2/)\n",
    "\n",
    "Two neural networks were trained with reinvorcement learning (DQN).  The first neural network was trained to a relatively high reward threshold.  This neural net was used to create an \"expert\" agent for playing the game.  Similarly, a second neural net was trained to a much lower threshold, and was used to create a \"novice\" agent.  1000 \"missions\" were flown for each agent, and the first 85 steps in the simulation were saved.  The simulation steps consists of 6 parameters that describe the environment.  Of those six parameters, the X velocity and Y velocity value of the lander were used.  The goal of this notebook is to evaluate the classification of univariant time series.  As a result, the X and Y velocity values where combined into a single value that represents the magnitude of the overall velocity using the following formula:\n",
    "\n",
    "$ M_v = f(X_v,Y_v) = \\sqrt{X_v^2+y_v^2} $ \n",
    "\n",
    "The following code loads up the data that was saved as part of the 2000 simulated missions."
   ]
  },
  {
   "cell_type": "code",
   "execution_count": 11,
   "id": "7c6d090f",
   "metadata": {},
   "outputs": [
    {
     "data": {
      "text/plain": [
       "['./data/network2_300/mission_247_computer.csv',\n",
       " './data/network2_300/mission_239_computer.csv',\n",
       " './data/network2_300/mission_227_computer.csv',\n",
       " './data/network2_300/mission_146_computer.csv',\n",
       " './data/network2_300/mission_96_computer.csv',\n",
       " './data/network2_300/mission_110_computer.csv',\n",
       " './data/network2_300/mission_81_computer.csv',\n",
       " './data/network2_300/mission_113_computer.csv',\n",
       " './data/network2_300/mission_95_computer.csv',\n",
       " './data/network2_300/mission_175_computer.csv',\n",
       " './data/network2_300/mission_92_computer.csv',\n",
       " './data/network2_300/mission_97_computer.csv',\n",
       " './data/network2_300/mission_177_computer.csv',\n",
       " './data/network2_300/mission_196_computer.csv',\n",
       " './data/network2_300/mission_231_computer.csv',\n",
       " './data/network2_300/mission_211_computer.csv',\n",
       " './data/network2_300/mission_242_computer.csv',\n",
       " './data/network2_300/mission_83_computer.csv',\n",
       " './data/network2_300/mission_166_computer.csv',\n",
       " './data/network2_300/mission_84_computer.csv',\n",
       " './data/network2_300/mission_144_computer.csv',\n",
       " './data/network2_300/mission_56_computer.csv',\n",
       " './data/network2_300/mission_214_computer.csv',\n",
       " './data/network2_300/mission_176_computer.csv',\n",
       " './data/network2_300/mission_79_computer.csv',\n",
       " './data/network2_300/mission_24_computer.csv',\n",
       " './data/network2_300/mission_131_computer.csv',\n",
       " './data/network2_300/mission_41_computer.csv',\n",
       " './data/network2_300/mission_234_computer.csv',\n",
       " './data/network2_300/mission_181_computer.csv',\n",
       " './data/network2_300/mission_230_computer.csv',\n",
       " './data/network2_300/mission_222_computer.csv',\n",
       " './data/network2_300/mission_76_computer.csv',\n",
       " './data/network2_300/mission_9_computer.csv',\n",
       " './data/network2_300/mission_77_computer.csv',\n",
       " './data/network2_300/mission_18_computer.csv',\n",
       " './data/network2_300/mission_17_computer.csv',\n",
       " './data/network2_300/mission_85_computer.csv',\n",
       " './data/network2_300/mission_60_computer.csv',\n",
       " './data/network2_300/mission_53_computer.csv',\n",
       " './data/network2_300/mission_229_computer.csv',\n",
       " './data/network2_300/mission_120_computer.csv',\n",
       " './data/network2_300/mission_128_computer.csv',\n",
       " './data/network2_300/mission_213_computer.csv',\n",
       " './data/network2_300/mission_115_computer.csv',\n",
       " './data/network2_300/mission_64_computer.csv',\n",
       " './data/network2_300/mission_6_computer.csv',\n",
       " './data/network2_300/mission_174_computer.csv',\n",
       " './data/network2_300/mission_107_computer.csv',\n",
       " './data/network2_300/mission_200_computer.csv',\n",
       " './data/network2_300/mission_138_computer.csv',\n",
       " './data/network2_300/mission_133_computer.csv',\n",
       " './data/network2_300/mission_33_computer.csv',\n",
       " './data/network2_300/mission_69_computer.csv',\n",
       " './data/network2_300/mission_14_computer.csv',\n",
       " './data/network2_300/mission_153_computer.csv',\n",
       " './data/network2_300/mission_10_computer.csv',\n",
       " './data/network2_300/mission_149_computer.csv',\n",
       " './data/network2_300/mission_62_computer.csv',\n",
       " './data/network2_300/mission_78_computer.csv',\n",
       " './data/network2_300/mission_100_computer.csv',\n",
       " './data/network2_300/mission_240_computer.csv',\n",
       " './data/network2_300/mission_212_computer.csv',\n",
       " './data/network2_300/mission_27_computer.csv',\n",
       " './data/network2_300/mission_139_computer.csv',\n",
       " './data/network2_300/mission_90_computer.csv',\n",
       " './data/network2_300/mission_54_computer.csv',\n",
       " './data/network2_300/mission_172_computer.csv',\n",
       " './data/network2_300/mission_99_computer.csv',\n",
       " './data/network2_300/mission_71_computer.csv',\n",
       " './data/network2_300/mission_80_computer.csv',\n",
       " './data/network2_300/mission_13_computer.csv',\n",
       " './data/network2_300/mission_193_computer.csv',\n",
       " './data/network2_300/mission_198_computer.csv',\n",
       " './data/network2_300/mission_216_computer.csv',\n",
       " './data/network2_300/mission_226_computer.csv',\n",
       " './data/network2_300/mission_244_computer.csv',\n",
       " './data/network2_300/mission_111_computer.csv',\n",
       " './data/network2_300/mission_37_computer.csv',\n",
       " './data/network2_300/mission_126_computer.csv',\n",
       " './data/network2_300/mission_152_computer.csv',\n",
       " './data/network2_300/mission_221_computer.csv',\n",
       " './data/network2_300/mission_246_computer.csv',\n",
       " './data/network2_300/mission_91_computer.csv',\n",
       " './data/network2_300/mission_208_computer.csv',\n",
       " './data/network2_300/mission_127_computer.csv',\n",
       " './data/network2_300/mission_87_computer.csv',\n",
       " './data/network2_300/mission_59_computer.csv',\n",
       " './data/network2_300/mission_197_computer.csv',\n",
       " './data/network2_300/mission_23_computer.csv',\n",
       " './data/network2_300/mission_16_computer.csv',\n",
       " './data/network2_300/mission_204_computer.csv',\n",
       " './data/network2_300/mission_195_computer.csv',\n",
       " './data/network2_300/mission_22_computer.csv',\n",
       " './data/network2_300/mission_44_computer.csv',\n",
       " './data/network2_300/mission_43_computer.csv',\n",
       " './data/network2_300/mission_112_computer.csv',\n",
       " './data/network2_300/mission_102_computer.csv',\n",
       " './data/network2_300/mission_192_computer.csv',\n",
       " './data/network2_300/mission_39_computer.csv',\n",
       " './data/network2_300/mission_75_computer.csv',\n",
       " './data/network2_300/mission_156_computer.csv',\n",
       " './data/network2_300/mission_15_computer.csv',\n",
       " './data/network2_300/mission_203_computer.csv',\n",
       " './data/network2_300/mission_137_computer.csv',\n",
       " './data/network2_300/mission_165_computer.csv',\n",
       " './data/network2_300/mission_199_computer.csv',\n",
       " './data/network2_300/mission_232_computer.csv',\n",
       " './data/network2_300/mission_36_computer.csv',\n",
       " './data/network2_300/mission_167_computer.csv',\n",
       " './data/network2_300/mission_162_computer.csv',\n",
       " './data/network2_300/mission_151_computer.csv',\n",
       " './data/network2_300/mission_0_computer.csv',\n",
       " './data/network2_300/mission_66_computer.csv',\n",
       " './data/network2_300/mission_130_computer.csv',\n",
       " './data/network2_300/mission_42_computer.csv',\n",
       " './data/network2_300/mission_55_computer.csv',\n",
       " './data/network2_300/mission_26_computer.csv',\n",
       " './data/network2_300/mission_150_computer.csv',\n",
       " './data/network2_300/mission_117_computer.csv',\n",
       " './data/network2_300/mission_188_computer.csv',\n",
       " './data/network2_300/mission_119_computer.csv',\n",
       " './data/network2_300/mission_105_computer.csv',\n",
       " './data/network2_300/mission_171_computer.csv',\n",
       " './data/network2_300/mission_202_computer.csv',\n",
       " './data/network2_300/mission_201_computer.csv',\n",
       " './data/network2_300/mission_129_computer.csv',\n",
       " './data/network2_300/mission_65_computer.csv',\n",
       " './data/network2_300/mission_163_computer.csv',\n",
       " './data/network2_300/mission_136_computer.csv',\n",
       " './data/network2_300/mission_35_computer.csv',\n",
       " './data/network2_300/mission_185_computer.csv',\n",
       " './data/network2_300/mission_179_computer.csv',\n",
       " './data/network2_300/mission_154_computer.csv',\n",
       " './data/network2_300/mission_50_computer.csv',\n",
       " './data/network2_300/mission_4_computer.csv',\n",
       " './data/network2_300/mission_29_computer.csv',\n",
       " './data/network2_300/mission_134_computer.csv',\n",
       " './data/network2_300/mission_125_computer.csv',\n",
       " './data/network2_300/mission_218_computer.csv',\n",
       " './data/network2_300/mission_5_computer.csv',\n",
       " './data/network2_300/mission_206_computer.csv',\n",
       " './data/network2_300/mission_168_computer.csv',\n",
       " './data/network2_300/mission_161_computer.csv',\n",
       " './data/network2_300/mission_12_computer.csv',\n",
       " './data/network2_300/mission_243_computer.csv',\n",
       " './data/network2_300/mission_3_computer.csv',\n",
       " './data/network2_300/mission_72_computer.csv',\n",
       " './data/network2_300/mission_225_computer.csv',\n",
       " './data/network2_300/mission_51_computer.csv',\n",
       " './data/network2_300/mission_30_computer.csv',\n",
       " './data/network2_300/mission_210_computer.csv',\n",
       " './data/network2_300/mission_63_computer.csv',\n",
       " './data/network2_300/mission_114_computer.csv',\n",
       " './data/network2_300/mission_121_computer.csv',\n",
       " './data/network2_300/mission_123_computer.csv',\n",
       " './data/network2_300/mission_145_computer.csv',\n",
       " './data/network2_300/mission_187_computer.csv',\n",
       " './data/network2_300/mission_183_computer.csv',\n",
       " './data/network2_300/mission_170_computer.csv',\n",
       " './data/network2_300/mission_28_computer.csv',\n",
       " './data/network2_300/mission_11_computer.csv',\n",
       " './data/network2_300/mission_219_computer.csv',\n",
       " './data/network2_300/mission_148_computer.csv',\n",
       " './data/network2_300/mission_160_computer.csv',\n",
       " './data/network2_300/mission_182_computer.csv',\n",
       " './data/network2_300/mission_46_computer.csv',\n",
       " './data/network2_300/mission_98_computer.csv',\n",
       " './data/network2_300/mission_190_computer.csv',\n",
       " './data/network2_300/mission_158_computer.csv',\n",
       " './data/network2_300/mission_249_computer.csv',\n",
       " './data/network2_300/mission_220_computer.csv',\n",
       " './data/network2_300/mission_73_computer.csv',\n",
       " './data/network2_300/mission_141_computer.csv',\n",
       " './data/network2_300/mission_21_computer.csv',\n",
       " './data/network2_300/mission_47_computer.csv',\n",
       " './data/network2_300/mission_32_computer.csv',\n",
       " './data/network2_300/mission_217_computer.csv',\n",
       " './data/network2_300/mission_238_computer.csv',\n",
       " './data/network2_300/mission_20_computer.csv',\n",
       " './data/network2_300/mission_2_computer.csv',\n",
       " './data/network2_300/mission_207_computer.csv',\n",
       " './data/network2_300/mission_67_computer.csv',\n",
       " './data/network2_300/mission_147_computer.csv',\n",
       " './data/network2_300/mission_194_computer.csv',\n",
       " './data/network2_300/mission_228_computer.csv',\n",
       " './data/network2_300/mission_118_computer.csv',\n",
       " './data/network2_300/mission_86_computer.csv',\n",
       " './data/network2_300/mission_178_computer.csv',\n",
       " './data/network2_300/mission_40_computer.csv',\n",
       " './data/network2_300/mission_205_computer.csv',\n",
       " './data/network2_300/mission_124_computer.csv',\n",
       " './data/network2_300/mission_169_computer.csv',\n",
       " './data/network2_300/mission_1_computer.csv',\n",
       " './data/network2_300/mission_245_computer.csv',\n",
       " './data/network2_300/mission_7_computer.csv',\n",
       " './data/network2_300/mission_34_computer.csv',\n",
       " './data/network2_300/mission_164_computer.csv',\n",
       " './data/network2_300/mission_180_computer.csv',\n",
       " './data/network2_300/mission_142_computer.csv',\n",
       " './data/network2_300/mission_235_computer.csv',\n",
       " './data/network2_300/mission_49_computer.csv',\n",
       " './data/network2_300/mission_8_computer.csv',\n",
       " './data/network2_300/mission_223_computer.csv',\n",
       " './data/network2_300/mission_108_computer.csv',\n",
       " './data/network2_300/mission_70_computer.csv',\n",
       " './data/network2_300/mission_132_computer.csv',\n",
       " './data/network2_300/mission_184_computer.csv',\n",
       " './data/network2_300/mission_224_computer.csv',\n",
       " './data/network2_300/mission_57_computer.csv',\n",
       " './data/network2_300/mission_122_computer.csv',\n",
       " './data/network2_300/mission_159_computer.csv',\n",
       " './data/network2_300/mission_186_computer.csv',\n",
       " './data/network2_300/mission_109_computer.csv',\n",
       " './data/network2_300/mission_103_computer.csv',\n",
       " './data/network2_300/mission_93_computer.csv',\n",
       " './data/network2_300/mission_143_computer.csv',\n",
       " './data/network2_300/mission_140_computer.csv',\n",
       " './data/network2_300/mission_106_computer.csv',\n",
       " './data/network2_300/mission_68_computer.csv',\n",
       " './data/network2_300/mission_155_computer.csv',\n",
       " './data/network2_300/mission_25_computer.csv',\n",
       " './data/network2_300/mission_209_computer.csv',\n",
       " './data/network2_300/mission_248_computer.csv',\n",
       " './data/network2_300/mission_104_computer.csv',\n",
       " './data/network2_300/mission_89_computer.csv',\n",
       " './data/network2_300/mission_135_computer.csv',\n",
       " './data/network2_300/mission_101_computer.csv',\n",
       " './data/network2_300/mission_173_computer.csv',\n",
       " './data/network2_300/mission_88_computer.csv',\n",
       " './data/network2_300/mission_48_computer.csv',\n",
       " './data/network2_300/mission_31_computer.csv',\n",
       " './data/network2_300/mission_19_computer.csv',\n",
       " './data/network2_300/mission_236_computer.csv',\n",
       " './data/network2_300/mission_241_computer.csv',\n",
       " './data/network2_300/mission_38_computer.csv',\n",
       " './data/network2_300/mission_74_computer.csv',\n",
       " './data/network2_300/mission_191_computer.csv',\n",
       " './data/network2_300/mission_94_computer.csv',\n",
       " './data/network2_300/mission_157_computer.csv',\n",
       " './data/network2_300/mission_116_computer.csv',\n",
       " './data/network2_300/mission_58_computer.csv',\n",
       " './data/network2_300/mission_45_computer.csv',\n",
       " './data/network2_300/mission_189_computer.csv',\n",
       " './data/network2_300/mission_215_computer.csv',\n",
       " './data/network2_300/mission_82_computer.csv',\n",
       " './data/network2_300/mission_237_computer.csv',\n",
       " './data/network2_300/mission_52_computer.csv',\n",
       " './data/network2_300/mission_61_computer.csv',\n",
       " './data/network2_300/mission_233_computer.csv']"
      ]
     },
     "execution_count": 11,
     "metadata": {},
     "output_type": "execute_result"
    }
   ],
   "source": [
    "glob(\"./data/network2_300/*.csv\")"
   ]
  },
  {
   "cell_type": "code",
   "execution_count": 2,
   "id": "ad083bca",
   "metadata": {},
   "outputs": [
    {
     "name": "stdout",
     "output_type": "stream",
     "text": [
      "Current directory: /home/mporter/projects/lunar_lander_ml/game/examples/agents\n",
      "Searching dirpath: ./data/network2_300/*.csv\n",
      "Searching dirpath: ./data/network2_400/*.csv\n",
      "Searching dirpath: ./data/network2_500/*.csv\n",
      "Searching dirpath: ./data/network2_600/*.csv\n",
      "Searching dirpath: ./data/network2_700/*.csv\n",
      "agent_300 missions: 250\n",
      "agent_400 missions: 250\n",
      "agent_500 missions: 250\n",
      "agent_600 missions: 250\n",
      "agent_700 missions: 250\n"
     ]
    }
   ],
   "source": [
    "#!pip install pandas\n",
    "\n",
    "import pandas as pd\n",
    "import numpy as np\n",
    "from glob import glob\n",
    "from math import sqrt\n",
    "import os\n",
    "\n",
    "def get_directory(dirpath, label):\n",
    "    dfs = list()\n",
    "    print(\"Searching dirpath: {}\".format(dirpath))\n",
    "    for filename in glob(dirpath):\n",
    "        df_new = pd.read_csv(filename, header=None)\n",
    "        df_new.columns = ['X','Y','XV', 'YV', 'Angle', 'Angular_Velocity', 'Leg_0_Ground', 'Leg_1_Ground']\n",
    "\n",
    "        df_new['VM'] = df_new.apply(lambda row: sqrt(row['XV']**2+row['YV']**2), axis=1)\n",
    "\n",
    "\n",
    "        df_new['XA'] = np.gradient(df_new['XV'])\n",
    "        df_new['YA'] = np.gradient(df_new['YV'])\n",
    "        df_new['AM'] = df_new.apply(lambda row: sqrt(row['XA']**2+row['YA']**2), axis=1)\n",
    "\n",
    "        df_new['XJ'] = np.gradient(df_new['XA'])\n",
    "        df_new['YJ'] = np.gradient(df_new['YA'])\n",
    "        df_new['JM'] = df_new.apply(lambda row: sqrt(row['XJ']**2+row['YJ']**2), axis=1)\n",
    "\n",
    "\n",
    "        df_new['Label']=label\n",
    "        df_new['File']=filename.split(\"/\")[-1]\n",
    "        df_new['Idx']=[x for x in range(len(df_new))]\n",
    "        df_new = df_new[['Idx','X','Y','XV', 'YV','VM', 'XA', 'YA', 'AM', 'XJ', 'YJ', 'JM', 'Angle', 'Angular_Velocity', 'Leg_0_Ground', 'Leg_1_Ground', 'File', 'Label']]\n",
    "        dfs.append(df_new)\n",
    "    return dfs\n",
    "\n",
    "# Create random balanced training set.  N random novice and N expert files\n",
    "print(\"Current directory: {}\".format(os.getcwd()))\n",
    "agent_300 = get_directory(\"./data/network2_300/*.csv\", \"300\")\n",
    "agent_400 = get_directory(\"./data/network2_400/*.csv\", \"400\")\n",
    "agent_500 = get_directory(\"./data/network2_500/*.csv\", \"500\")\n",
    "agent_600 = get_directory(\"./data/network2_600/*.csv\", \"600\")\n",
    "agent_700 = get_directory(\"./data/network2_700/*.csv\", \"700\")\n",
    "\n",
    "print(\"agent_300 missions: {}\".format(len(agent_300)))\n",
    "print(\"agent_400 missions: {}\".format(len(agent_400)))\n",
    "print(\"agent_500 missions: {}\".format(len(agent_500)))\n",
    "print(\"agent_600 missions: {}\".format(len(agent_600)))\n",
    "print(\"agent_700 missions: {}\".format(len(agent_700)))\n",
    "\n",
    "\n",
    "#expert_data_list = [{\"File\":f, \"df\":get_file(f, 'expert')} for f in expert_mission_files]\n",
    "#novice_data_list = [{\"File\":f, \"df\":get_file(f, 'novice')} for f in novice_mission_files]\n",
    "\n",
    "#print(\"We have {} expert files.\".format(len(expert_data_list)))\n",
    "#print(\"We have {} novice files.\".format(len(novice_data_list)))"
   ]
  },
  {
   "cell_type": "markdown",
   "id": "3bbc82ab",
   "metadata": {},
   "source": [
    "## Basic Exploratory Data Analysis\n",
    "\n",
    "The following code displays the data.  The first set of graphs consists of the 5 random expert and 5 random novice missions.  Again, the time series data in the graphs consists of the combined magnitude of the velocity of the simulated lunar lander missions as flown by the expert and novice AI agents."
   ]
  },
  {
   "cell_type": "code",
   "execution_count": 4,
   "id": "d0ff2321",
   "metadata": {},
   "outputs": [
    {
     "data": {
      "image/png": "[encoded data removed]",
      "text/plain": [
       "<Figure size 720x288 with 2 Axes>"
      ]
     },
     "metadata": {
      "needs_background": "light"
     },
     "output_type": "display_data"
    }
   ],
   "source": [
    "from matplotlib import pyplot as plt\n",
    "import random\n",
    "\n",
    "p1 = [x['VM'].values[10] for x in agent_300]\n",
    "p2 = [x['VM'].values[13] for x in agent_700]\n",
    "fig, ax = plt.subplots(2,1,figsize=(10,4))\n",
    "fig.tight_layout()\n",
    "ax[0].set_title('Novice')\n",
    "ax[0].plot(p1,  color='red')\n",
    "ax[1].set_title('Expert')\n",
    "ax[1].plot(p2, color='blue')\n",
    "plt.show()\n",
    "    \n"
   ]
  },
  {
   "cell_type": "markdown",
   "id": "ead8642d",
   "metadata": {},
   "source": [
    "A second way to visualize the two data sets is to look at some descriptive statistics on the time series data.  Perhaps the simpliest way to do that is to consider the mean and standard deviation of the time series values.  Of course, the values in the time series are autocorrelated.  However, in just looking at the mean and standard deviation of the data we can see that the series are quite similar.  Clearly, based on mean and standard deviation, the data is not cleanly or even approximatly separable.  As a result, trying to use a model that simply clusters the series based on these to descriptive statistics probably will not be very successful."
   ]
  },
  {
   "cell_type": "code",
   "execution_count": 7,
   "id": "583772d4",
   "metadata": {},
   "outputs": [
    {
     "data": {
      "image/png": "[encoded data removed]",
      "text/plain": [
       "<Figure size 432x288 with 1 Axes>"
      ]
     },
     "metadata": {
      "needs_background": "light"
     },
     "output_type": "display_data"
    }
   ],
   "source": [
    "exp_mean = [np.mean(x['VM']) for x in agent_700]\n",
    "exp_std = [np.std(x['VM']) for x in agent_700]\n",
    "nov_mean = [np.mean(x['VM']) for x in agent_300]\n",
    "nov_std = [np.std(x['VM']) for x in agent_300]\n",
    "\n",
    "plt.scatter(exp_mean, exp_std, c='red', s=.75, label=\"Expert\")\n",
    "plt.scatter(nov_mean, nov_std, c='blue', s=.75, label=\"Novice\")\n",
    "plt.xlabel(\"Mean\")\n",
    "plt.ylabel(\"Standard Deviation\")\n",
    "plt.legend()\n",
    "plt.title(\"Mean and Std of Expert and Novice Training Data\")\n",
    "plt.show()"
   ]
  },
  {
   "cell_type": "markdown",
   "id": "c84cf18c",
   "metadata": {},
   "source": [
    "As can be seen in the sample data above, the challenge of separating out the novice and expert missions is not necessarily trivial.\n",
    "\n",
    "## Setting Up Data for Training and Testing\n",
    "\n",
    "The following code will split up the data into train and test sets."
   ]
  },
  {
   "cell_type": "code",
   "execution_count": 8,
   "id": "a76598ae",
   "metadata": {},
   "outputs": [
    {
     "name": "stdout",
     "output_type": "stream",
     "text": [
      "We now have...\n",
      "Agent 300 train: 200 missions\n",
      "Agent 300 test:  50 missions\n",
      "Agent 400 train: 200 missions\n",
      "Agent 400 test:  50 missions\n",
      "Agent 500 train: 200 missions\n",
      "Agent 500 test:  50 missions\n",
      "Agent 600 train: 200 missions\n",
      "Agent 600 test:  50 missions\n",
      "Agent 700 train: 200 missions\n",
      "Agent 800 test:  50 missions\n"
     ]
    }
   ],
   "source": [
    "import random\n",
    "\n",
    "def split_list(l, p):\n",
    "        random.shuffle(l)\n",
    "        cut = int(len(l)*p)\n",
    "        list_1 = l[:cut]\n",
    "        list_2 = l[cut:]\n",
    "        return(list_1, list_2)\n",
    "    \n",
    "agent_300_train, agent_300_test = split_list(agent_300, .8)\n",
    "agent_400_train, agent_400_test = split_list(agent_400, .8)\n",
    "agent_500_train, agent_500_test = split_list(agent_500, .8)\n",
    "agent_600_train, agent_600_test = split_list(agent_600, .8)\n",
    "agent_700_train, agent_700_test = split_list(agent_700, .8)\n",
    "\n",
    "\n",
    "print(\"We now have...\")\n",
    "print(\"Agent 300 train: {} missions\".format(len(agent_300_train)))\n",
    "print(\"Agent 300 test:  {} missions\".format(len(agent_300_test)))\n",
    "print(\"Agent 400 train: {} missions\".format(len(agent_400_train)))\n",
    "print(\"Agent 400 test:  {} missions\".format(len(agent_400_test)))\n",
    "print(\"Agent 500 train: {} missions\".format(len(agent_500_train)))\n",
    "print(\"Agent 500 test:  {} missions\".format(len(agent_500_test)))\n",
    "print(\"Agent 600 train: {} missions\".format(len(agent_600_train)))\n",
    "print(\"Agent 600 test:  {} missions\".format(len(agent_600_test)))\n",
    "print(\"Agent 700 train: {} missions\".format(len(agent_700_train)))\n",
    "print(\"Agent 800 test:  {} missions\".format(len(agent_700_test)))\n"
   ]
  },
  {
   "cell_type": "markdown",
   "id": "d0768e02",
   "metadata": {},
   "source": [
    "The following cell provides a method to add an index to the time series data.  The sktime data relies on the timeseries data being 2 dimensional.  Since the time dimension is one of the dimensions, this is simply a 2-dimensional representation of a univariate time series.  It should be mentioned that sktime is also able to handle 3-dimensional input.  For information on that higher dimensional data format, please refer to the sktime documentation."
   ]
  },
  {
   "cell_type": "code",
   "execution_count": 5,
   "id": "17c19062",
   "metadata": {},
   "outputs": [
    {
     "name": "stdout",
     "output_type": "stream",
     "text": [
      "Test passed.\n"
     ]
    }
   ],
   "source": [
    "def add_idx(data):\n",
    "    df = pd.DataFrame()\n",
    "    df['d'] = data\n",
    "    \n",
    "    df['idx'] = range(len(data))\n",
    "    df = df[['idx','d']]\n",
    "    return list(df.values.tolist())\n",
    "\n",
    "x = [5,6,7]\n",
    "x_idx = add_idx(x)\n",
    "assert x_idx==[[0, 5], [1, 6], [2, 7]]\n",
    "\n",
    "print(\"Test passed.\")\n",
    "    "
   ]
  },
  {
   "cell_type": "markdown",
   "id": "75f61fb2",
   "metadata": {},
   "source": [
    "## Structuring the Data for sktime\n",
    "\n",
    "Some of the models in the sktime package have a requirement that the time series data all be the same length for training and inference.  In order to accomidate that, and to make the problem a little harder, we limit the data to the first 85 steps in the simulation.  (This can also be seen in the graphs above.)  In order to match the coding samples for the sktime library, the code below organizes the input data into a pandas dataframe consisting of a single column \"dim_0\".  Each value in this column contains the time series as a pandas \"series\" object.  "
   ]
  },
  {
   "cell_type": "code",
   "execution_count": 24,
   "id": "01b465bb",
   "metadata": {},
   "outputs": [
    {
     "name": "stdout",
     "output_type": "stream",
     "text": [
      "The first training patern has length: 60 \n"
     ]
    }
   ],
   "source": [
    "from sklearn.metrics import accuracy_score\n",
    "\n",
    "train_series_list = [pd.core.series.Series(x['VM'][:60]) for x in agent_300_train] + \\\n",
    "                    [pd.core.series.Series(x['VM'][:60]) for x in agent_400_train] + \\\n",
    "                    [pd.core.series.Series(x['VM'][:60]) for x in agent_500_train] + \\\n",
    "                    [pd.core.series.Series(x['VM'][:60]) for x in agent_600_train] + \\\n",
    "                    [pd.core.series.Series(x['VM'][:60]) for x in agent_700_train]\n",
    "                    \n",
    "X_train = pd.DataFrame()\n",
    "X_train['dim_0']=train_series_list\n",
    "\n",
    "y_train = np.array(['agent_300' for _ in agent_300_train] + \n",
    "                   ['agent_400' for _ in agent_400_train] +\n",
    "                   ['agent_500' for _ in agent_500_train] +\n",
    "                   ['agent_600' for _ in agent_600_train] +\n",
    "                   ['agent_700' for _ in agent_700_train])\n",
    "                   \n",
    "\n",
    "test_series_list =  [pd.core.series.Series(x['VM'][:60]) for x in agent_300_test] + \\\n",
    "                    [pd.core.series.Series(x['VM'][:60]) for x in agent_400_test] + \\\n",
    "                    [pd.core.series.Series(x['VM'][:60]) for x in agent_500_test] + \\\n",
    "                    [pd.core.series.Series(x['VM'][:60]) for x in agent_600_test] + \\\n",
    "                    [pd.core.series.Series(x['VM'][:60]) for x in agent_700_test]\n",
    "                    \n",
    "[pd.core.series.Series(x['VM'][:60]) for x in agent_700_test]\n",
    "\n",
    "                    \n",
    "\n",
    "X_test = pd.DataFrame()\n",
    "X_test['dim_0']=test_series_list\n",
    "\n",
    "y_test = np.array(['agent_300' for _ in agent_300_test] + \n",
    "                  ['agent_400' for _ in agent_400_test] +\n",
    "                  ['agent_500' for _ in agent_500_test] +\n",
    "                  ['agent_600' for _ in agent_600_test] +\n",
    "                  ['agent_700' for _ in agent_700_test])\n",
    "\n",
    "                   \n",
    "\n",
    "print(\"The first training patern has length: {} \".format(len(X_train.iloc[1][0])))\n"
   ]
  },
  {
   "cell_type": "markdown",
   "id": "8906eec4",
   "metadata": {},
   "source": [
    "## Training the Models\n",
    "\n",
    "The following code runs through the different 5 sample time series classification models and calculates the training time, inference time and final accuracy of the models."
   ]
  },
  {
   "cell_type": "code",
   "execution_count": 25,
   "id": "97c8fef2",
   "metadata": {},
   "outputs": [
    {
     "name": "stderr",
     "output_type": "stream",
     "text": [
      "/tmp/ipykernel_141261/123766059.py:19: FutureWarning: Call to deprecated class MrSEQLClassifier. (MrSEQLClassifier will be removed in v0.10.0. It will be replaced with an implementation based on Numba.) -- Deprecated since version 0.8.1.\n",
      "  return cls()\n",
      "/tmp/ipykernel_141261/123766059.py:19: FutureWarning: Call to deprecated class SEQLCLF. (SEQLCLF will be removed in v0.10.0) -- Deprecated since version 0.8.1.\n",
      "  return cls()\n"
     ]
    },
    {
     "name": "stdout",
     "output_type": "stream",
     "text": [
      "Classifiers appear to be present.\n",
      "Working on: IndividualBOSS\n",
      "Working on: KNeighborsTimeSeriesClassifier\n"
     ]
    },
    {
     "name": "stderr",
     "output_type": "stream",
     "text": [
      "/home/mporter/projects/inverted_pendulum-master/venv/lib/python3.9/site-packages/sklearn/metrics/pairwise.py:1474: UserWarning: Cython DTW is deprecated from V0.10\n",
      "  out[i, j] = metric(X[i], Y[j], **kwds)\n"
     ]
    },
    {
     "name": "stdout",
     "output_type": "stream",
     "text": [
      "Working on: TimeSeriesForestClassifier\n",
      "Working on: MrSEQLClassifier\n"
     ]
    },
    {
     "name": "stderr",
     "output_type": "stream",
     "text": [
      "/tmp/ipykernel_141261/123766059.py:19: FutureWarning: Call to deprecated class MrSEQLClassifier. (MrSEQLClassifier will be removed in v0.10.0. It will be replaced with an implementation based on Numba.) -- Deprecated since version 0.8.1.\n",
      "  return cls()\n",
      "/tmp/ipykernel_141261/123766059.py:19: FutureWarning: Call to deprecated class SEQLCLF. (SEQLCLF will be removed in v0.10.0) -- Deprecated since version 0.8.1.\n",
      "  return cls()\n"
     ]
    },
    {
     "name": "stdout",
     "output_type": "stream",
     "text": [
      "Working on: MatrixProfileClassifier\n",
      "Models trained.  Results in tabular form:\n",
      "\n",
      "                       Classifier  Training_Time  Inference_Time  Accuracy\n",
      "0                  IndividualBOSS          0.000            0.00     0.552\n",
      "1  KNeighborsTimeSeriesClassifier          0.000            0.02     0.736\n",
      "2      TimeSeriesForestClassifier          0.004            0.00     0.776\n",
      "3                MrSEQLClassifier          0.067            0.00     0.580\n",
      "4         MatrixProfileClassifier          0.003            0.00     0.448\n"
     ]
    }
   ],
   "source": [
    "#!pip install esig\n",
    "#!pip install tsfresh\n",
    "from sktime.classification.all import ColumnEnsembleClassifier, RandomIntervalSpectralEnsemble, RandomIntervalSpectralEnsemble, IndividualBOSS, KNeighborsTimeSeriesClassifier, ShapeletTransformClassifier, MrSEQLClassifier\n",
    "import sktime.classification.all\n",
    "from sktime.classification.feature_based import MatrixProfileClassifier\n",
    "from datetime import datetime\n",
    "\n",
    "classifiers = ['IndividualBOSS', \n",
    "               'KNeighborsTimeSeriesClassifier', \n",
    "               'TimeSeriesForestClassifier', \n",
    "               'MrSEQLClassifier',\n",
    "               'MatrixProfileClassifier']\n",
    "\n",
    "def factory(classname):\n",
    "    try:\n",
    "        cls = getattr(sktime.classification.all, classname)\n",
    "    except:  #Unfortunate kluge for matrix profiles.\n",
    "        cls = getattr(sktime.classification.feature_based, classname)\n",
    "    return cls()\n",
    "\n",
    "for c in classifiers:\n",
    "    _ = factory(c)\n",
    "\n",
    "\n",
    "print(\"Classifiers appear to be present.\")\n",
    "\n",
    "results = []\n",
    "for classifier_name in classifiers:\n",
    "    start = datetime.now()\n",
    "    print(\"Working on: {}\".format(classifier_name))\n",
    "    start = datetime.now()\n",
    "    classifier = factory(classifier_name)\n",
    "    \n",
    "    # Train the model\n",
    "    classifier.fit(X_train, y_train)\n",
    "    \n",
    "    trained_t = datetime.now()-start\n",
    "    \n",
    "    start = datetime.now()\n",
    "    \n",
    "    # Predict results on test data\n",
    "    y_pred = classifier.predict(X_test)\n",
    "    \n",
    "    inference_t = datetime.now()-start\n",
    "    \n",
    "    # Measure accuracy of predictions against \"ground\" truth.\n",
    "    a = accuracy_score(y_test, y_pred)\n",
    "    \n",
    "    # Save resultes\n",
    "    results.append([classifier_name, trained_t.seconds/len(X_train), inference_t.seconds/len(X_test), a])\n",
    "\n",
    "df = pd.DataFrame(data=results)\n",
    "df.columns = ['Classifier', 'Training_Time', 'Inference_Time', 'Accuracy']\n",
    "\n",
    "print(\"Models trained.  Results in tabular form:\\n\")\n",
    "print(df)    \n"
   ]
  },
  {
   "cell_type": "markdown",
   "id": "0a6e4a03",
   "metadata": {},
   "source": [
    "## Viewing the Results Graphically\n",
    "\n",
    "The following code displays a graph of the performance for training and inference vs the accuracy of the different models."
   ]
  },
  {
   "cell_type": "code",
   "execution_count": 26,
   "id": "4a85f292",
   "metadata": {},
   "outputs": [
    {
     "data": {
      "image/png": "[encoded data removed]",
      "text/plain": [
       "<Figure size 432x288 with 1 Axes>"
      ]
     },
     "metadata": {
      "needs_background": "light"
     },
     "output_type": "display_data"
    },
    {
     "data": {
      "text/plain": [
       "Text(0.5, 1.0, 'Accuracy vs Inference times')"
      ]
     },
     "execution_count": 26,
     "metadata": {},
     "output_type": "execute_result"
    },
    {
     "data": {
      "image/png": "[encoded data removed]",
      "text/plain": [
       "<Figure size 432x288 with 1 Axes>"
      ]
     },
     "metadata": {
      "needs_background": "light"
     },
     "output_type": "display_data"
    }
   ],
   "source": [
    "plt.scatter(df['Accuracy'],df['Training_Time'])\n",
    "\n",
    "x = df['Accuracy'].values\n",
    "y = df['Training_Time'].values\n",
    "s = df['Classifier'].values\n",
    "\n",
    "\n",
    "for i in range(len(x)):\n",
    "    plt.text(x[i]+.005, y[i], s[i])\n",
    "plt.xlabel(\"Accuracy\")\n",
    "plt.ylabel(\"Training Time (s)\")\n",
    "plt.title(\"Accuracy vs Training times\")\n",
    "\n",
    "plt.show()\n",
    "\n",
    "plt.scatter(df['Accuracy'],df['Inference_Time'])\n",
    "\n",
    "x = df['Accuracy'].values\n",
    "y = df['Inference_Time'].values\n",
    "s = df['Classifier'].values\n",
    "\n",
    "\n",
    "for i in range(len(x)):\n",
    "    plt.text(x[i]+.005, y[i], s[i])\n",
    "plt.xlabel(\"Accuracy\")\n",
    "plt.ylabel(\"Inference Time (s)\")\n",
    "plt.title(\"Accuracy vs Inference times\")"
   ]
  },
  {
   "cell_type": "markdown",
   "id": "b051a076",
   "metadata": {},
   "source": [
    "## Conclusion\n",
    "\n",
    "The above data shows that, for this problem, while all of the models perform better than just \"guessing\", the TimeSeriesForestClassifier was very accurate (over 95%) in correctly identifying the type of agent responsible for the time series in our test set.  The TimeSeriesForestClassifier was also highly efficient in terms of training and inference times.\n",
    "\n",
    "It should be noted that the different models used in this example were not tuned, rather they were implemented with just their default settings.  Results of the above would likely be different if the models were tuned.  It is also worth noting that that there are over 15 additional time series classification models available in the sktime dataset.  \n",
    "\n",
    "This concludes this overview of the sktime time series models available for time series classification.\n",
    "\n",
    "Miles Porter  \n",
    "January 18, 2022  \n",
    "miles_porter@trimble.com  \n"
   ]
  }
 ],
 "metadata": {
  "kernelspec": {
   "display_name": "Python 3.9.5 64-bit ('venv': venv)",
   "language": "python",
   "name": "python395jvsc74a57bd0f5e86ed6aeae07abc7b8c39f839120963d0b5406b173172d796227ce7dcf8f5d"
  },
  "language_info": {
   "codemirror_mode": {
    "name": "ipython",
    "version": 3
   },
   "file_extension": ".py",
   "mimetype": "text/x-python",
   "name": "python",
   "nbconvert_exporter": "python",
   "pygments_lexer": "ipython3",
   "version": "3.9.7"
  }
 },
 "nbformat": 4,
 "nbformat_minor": 5
}
